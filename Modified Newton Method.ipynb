{
 "cells": [
  {
   "cell_type": "markdown",
   "metadata": {},
   "source": [
    "## Modified-Newton Method\n",
    "\n",
    "It is possible to make modifications to the newton method, in order to obtain solutions for both a single root and multiple roots. At first, it should be emphasized what each of these two possibilities is about: the single root happens when the function curve intercepts the x-axis at a single point while in the case of multiple root a certain set of points intersects the axis -x.\n",
    "\n",
    "The changes inserted in the formula (line 7) that finds the approximations are the result of two theorems (2.11) and (2.12) that can be seen in more detail in the book entitled Numerical Analysis of (Richard L. Burden et al, 2016).\n",
    "\n",
    "Finally, there are some observations to be cited in relation to computational costs: the newton-modified method is more efficient in the context of multiple roots and also of single or single roots, however, as there are more mathematical operations to be performed to determine the approximation, its cost is considerably higher than that of Newton's Method.\n"
   ]
  },
  {
   "cell_type": "code",
   "execution_count": 4,
   "metadata": {},
   "outputs": [],
   "source": [
    "from numpy import *\n",
    "import numpy as np \n",
    "\n",
    "def modified_newton(f,der_f,der_ff,p0,TOL,N0):\n",
    "    i = 1\n",
    "    while(i <= N0):\n",
    "        p = p0-(f(p0)*der_f(p0))/((der_f(p0)**2-f(p0)*der_ff(p0)))\n",
    "        if(np.absolute(p-p0) < TOL):\n",
    "            print(p)\n",
    "            break\n",
    "        i = i+1\n",
    "        p0 = p"
   ]
  },
  {
   "cell_type": "code",
   "execution_count": 5,
   "metadata": {},
   "outputs": [
    {
     "name": "stdout",
     "output_type": "stream",
     "text": [
      "0.7390851332151602\n"
     ]
    }
   ],
   "source": [
    "f = lambda x: np.cos(x)-x\n",
    "der_f = lambda x: -np.sin(x)-1\n",
    "der_ff = lambda x: -np.cos(x)\n",
    "modified_newton(f,der_f,der_ff,0.7853981635,0.00001,7)"
   ]
  }
 ],
 "metadata": {
  "kernelspec": {
   "display_name": "Python 3",
   "language": "python",
   "name": "python3"
  },
  "language_info": {
   "codemirror_mode": {
    "name": "ipython",
    "version": 3
   },
   "file_extension": ".py",
   "mimetype": "text/x-python",
   "name": "python",
   "nbconvert_exporter": "python",
   "pygments_lexer": "ipython3",
   "version": "3.8.3"
  }
 },
 "nbformat": 4,
 "nbformat_minor": 4
}

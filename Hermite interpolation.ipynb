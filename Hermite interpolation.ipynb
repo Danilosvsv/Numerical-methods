{
 "cells": [
  {
   "cell_type": "markdown",
   "metadata": {},
   "source": [
    "#### No código abaixo, carrega-se os dados da tabela da questão 1.d (Livro Burden, seção 3.4, página 156)."
   ]
  },
  {
   "cell_type": "code",
   "execution_count": 12,
   "metadata": {},
   "outputs": [
    {
     "name": "stdout",
     "output_type": "stream",
     "text": [
      "-0.62049958\n",
      "3.58502082\n",
      "-2.198918199999995\n",
      "-0.4904470000000938\n",
      "0.03720500000069488\n",
      "0.04047499999282337\n",
      "-0.013638888850522172\n",
      "0.41037037019133155\n"
     ]
    }
   ],
   "source": [
    "from numpy import *\n",
    "import numpy as np \n",
    "\n",
    "# Entrys\n",
    "\n",
    "n = 3\n",
    "x = np.array([0.1,0.2,0.3,0.4])\n",
    "z = np.zeros(8)\n",
    "Q = np.zeros((8,8))\n",
    "fx = np.array([-0.62049958,-0.28398668,0.00660095,0.24842400])\n",
    "dfx = np.array([3.58502082,3.14033271,2.66668043,2.16529366])\n",
    "\n",
    "def Hermite(n,x,z,Q,fx,dfx):\n",
    "    for i in range(n+1): # Although the algorithm indicates from 0 to n, in python it is up to n + 1\n",
    "        z[2*i] = x[i]\n",
    "        z[2*i+1] = x[i]\n",
    "        Q[2*i,0] = fx[i]\n",
    "        Q[2*i+1,0] = fx[i]\n",
    "        Q[2*i+1,1] = dfx[i]\n",
    "        if(i != 0):\n",
    "            Q[2*i,1] = (Q[2*i,0]-Q[2*i-1,0])/(z[2*i]-z[2*i-1])\n",
    "    for i in range(2,2*n+2,1):\n",
    "        for j in range(2,i+1,1):\n",
    "            Q[i,j] = (Q[i,j-1]-Q[i-1,j-1])/(z[i]-z[i-j])\n",
    "\n",
    "    for i in range(8): \n",
    "        for j in range(8):\n",
    "            if(i == j):\n",
    "                print(Q[i,j]) # # Print the output Q\n",
    "    # Some indexes were changed in \"for i in range\" to adapt the notation used by python\n",
    "\n",
    "Hermite(n,x,z,Q,fx,dfx)"
   ]
  }
 ],
 "metadata": {
  "kernelspec": {
   "display_name": "Python 3",
   "language": "python",
   "name": "python3"
  },
  "language_info": {
   "codemirror_mode": {
    "name": "ipython",
    "version": 3
   },
   "file_extension": ".py",
   "mimetype": "text/x-python",
   "name": "python",
   "nbconvert_exporter": "python",
   "pygments_lexer": "ipython3",
   "version": "3.8.3"
  }
 },
 "nbformat": 4,
 "nbformat_minor": 4
}

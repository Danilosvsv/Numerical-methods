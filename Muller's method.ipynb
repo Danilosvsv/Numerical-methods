{
 "cells": [
  {
   "cell_type": "code",
   "execution_count": 22,
   "metadata": {},
   "outputs": [],
   "source": [
    "from numpy import *\n",
    "import numpy as np \n",
    "\n",
    "def muller(f,p0,p1,p2,TOL,N0):\n",
    "    h1 = p1-p0\n",
    "    h2 = p2-p1\n",
    "    d1 = (f(p1)-f(p0))/h1\n",
    "    d2 = (f(p2)-f(p1))/h2\n",
    "    d = (d2-d1)/(h2+h1)\n",
    "    i = 3\n",
    "    while(i <= N0):\n",
    "        b = d2+h2*d\n",
    "        D = (b**2-4*f(p2)*d)**(1/2)\n",
    "        if(np.absolute(b-D)<np.absolute(b+D)):\n",
    "            E = b + D\n",
    "        else:\n",
    "            E = b - D\n",
    "        h = -2*f(p2)/E\n",
    "        p = p2+h\n",
    "        if(np.absolute(h) < TOL):\n",
    "            print(p)\n",
    "            break\n",
    "        p0 = p1\n",
    "        p1 = p2\n",
    "        p2 = p\n",
    "        h1 = p1-p0\n",
    "        h2 = p2-p1\n",
    "        d1 = (f(p1)-f(p0))/h1\n",
    "        d2 = (f(p2)-f(p1))/h2\n",
    "        d = (d2-d1)/(h2+h1)\n",
    "        i = i+1"
   ]
  },
  {
   "cell_type": "markdown",
   "metadata": {},
   "source": [
    "#### Example 1 - Consider the polynomial $ f(x) = x^4-3x^3+x^2+x+1 $ and determine the approximations of the complex roots of the function f(x). "
   ]
  },
  {
   "cell_type": "code",
   "execution_count": 21,
   "metadata": {},
   "outputs": [
    {
     "name": "stdout",
     "output_type": "stream",
     "text": [
      "(-0.33909283776171-0.44663009999751735j)\n"
     ]
    }
   ],
   "source": [
    "f = lambda x: x**4-3*x**3+x**2+x+1\n",
    "\n",
    "muller(f,0.5,-0.5,0,0.00001,50)"
   ]
  }
 ],
 "metadata": {
  "kernelspec": {
   "display_name": "Python 3",
   "language": "python",
   "name": "python3"
  },
  "language_info": {
   "codemirror_mode": {
    "name": "ipython",
    "version": 3
   },
   "file_extension": ".py",
   "mimetype": "text/x-python",
   "name": "python",
   "nbconvert_exporter": "python",
   "pygments_lexer": "ipython3",
   "version": "3.8.3"
  }
 },
 "nbformat": 4,
 "nbformat_minor": 4
}

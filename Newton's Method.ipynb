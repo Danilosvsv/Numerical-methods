{
 "cells": [
  {
   "cell_type": "markdown",
   "metadata": {},
   "source": [
    "## Método de Newton\n",
    "\n",
    "The Newton-Raphson method is one of the most efficient and well-known numerical methods for solving a root determination problem and can be introduced in several ways. In this implementation, the root approximation is extracted through the function and its respective derivative."
   ]
  },
  {
   "cell_type": "code",
   "execution_count": 25,
   "metadata": {},
   "outputs": [],
   "source": [
    "from numpy import *\n",
    "import numpy as np \n",
    "\n",
    "def newton(f,der_f,p0,TOL,N0):\n",
    "    i = 1\n",
    "    while(i <= N0):\n",
    "        p = p0-f(p0)/der_f(p0)\n",
    "        if(np.absolute(p-p0) < TOL):\n",
    "            print(p)\n",
    "            break\n",
    "        i = i+1\n",
    "        p0 = p"
   ]
  },
  {
   "cell_type": "code",
   "execution_count": 26,
   "metadata": {},
   "outputs": [
    {
     "name": "stdout",
     "output_type": "stream",
     "text": [
      "0.7390851332151611\n"
     ]
    }
   ],
   "source": [
    "f = lambda x: np.cos(x)-x\n",
    "der_f = lambda x: -np.sin(x)-1\n",
    "newton(f,der_f,0.7853981635,0.00001,7)"
   ]
  },
  {
   "cell_type": "markdown",
   "metadata": {},
   "source": []
  }
 ],
 "metadata": {
  "kernelspec": {
   "display_name": "Python 3",
   "language": "python",
   "name": "python3"
  },
  "language_info": {
   "codemirror_mode": {
    "name": "ipython",
    "version": 3
   },
   "file_extension": ".py",
   "mimetype": "text/x-python",
   "name": "python",
   "nbconvert_exporter": "python",
   "pygments_lexer": "ipython3",
   "version": "3.8.3"
  }
 },
 "nbformat": 4,
 "nbformat_minor": 4
}

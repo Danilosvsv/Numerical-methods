{
 "cells": [
  {
   "cell_type": "markdown",
   "metadata": {},
   "source": [
    "## False Position Method\n",
    "\n",
    "The false position method generates approximations analogously to the Secant Method, that is, without the need to calculate the first derivative of the function f (x). Its differential is that there is a test to ensure that the root is always in the interval defined by successive iterations.\n",
    "\n",
    "The approximations of this method are generated from two initial combinations $ p_0 $ and $ p_1 $ and determine an approximation $ p_2 $ as a line intersection that links the ordered pair $ (p_0, f (p_0)) $ and $ (p_1 , f (p_1)) $ with the x axis. For $ p_3 $: $ p_1 $ and $ p_2 $ are analyzed, and so on."
   ]
  },
  {
   "cell_type": "code",
   "execution_count": 10,
   "metadata": {},
   "outputs": [],
   "source": [
    "from numpy import *\n",
    "import numpy as np \n",
    "\n",
    "def false_position(f,p0,p1,TOL,N0):\n",
    "    i = 2\n",
    "    q0 = f(p0)\n",
    "    q1 = f(p1)\n",
    "    while(i <= N0):\n",
    "        p = p1-q1*(p1-p0)/(q1-q0)\n",
    "        if(np.absolute(p-p1) < TOL):\n",
    "            print(p)\n",
    "            break\n",
    "        i = i+1\n",
    "        q = f(p)\n",
    "        if(q*q1 < 0):\n",
    "            p0 = p1\n",
    "            q0 = q1\n",
    "        p1 = p\n",
    "        q1 = q"
   ]
  },
  {
   "cell_type": "code",
   "execution_count": 13,
   "metadata": {},
   "outputs": [
    {
     "name": "stdout",
     "output_type": "stream",
     "text": [
      "0.7390851305265789\n"
     ]
    }
   ],
   "source": [
    "f = lambda x: np.cos(x)-x\n",
    "false_position(f,0.5,0.7853981635,0.00001,6)"
   ]
  }
 ],
 "metadata": {
  "kernelspec": {
   "display_name": "Python 3",
   "language": "python",
   "name": "python3"
  },
  "language_info": {
   "codemirror_mode": {
    "name": "ipython",
    "version": 3
   },
   "file_extension": ".py",
   "mimetype": "text/x-python",
   "name": "python",
   "nbconvert_exporter": "python",
   "pygments_lexer": "ipython3",
   "version": "3.8.3"
  }
 },
 "nbformat": 4,
 "nbformat_minor": 4
}

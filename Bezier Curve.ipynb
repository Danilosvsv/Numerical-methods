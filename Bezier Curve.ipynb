{
 "cells": [
  {
   "cell_type": "markdown",
   "metadata": {},
   "source": [
    "## Bezier Curve\n",
    "\n"
   ]
  },
  {
   "cell_type": "code",
   "execution_count": null,
   "metadata": {},
   "outputs": [],
   "source": [
    "\n",
    "\n",
    "def bezier(points,gpl,gpr) # gpl means the left guide point; # gpr means the right guide point\n",
    "    for i in range(n-1):\n",
    "        a[0] = x[i]\n",
    "        b[0] = y[i]\n",
    "        a[1] = 3*(gpl[i]-x[i])\n",
    "        b[1] = 3*(y[i]-y[i])\n",
    "        a[2] = 3*(x[i]+x[i+1]-2*x[i])\n",
    "        b[2] = 3*(y[i]+y[i+1]-2*y[i])\n",
    "        a[3] = x[i+1]-x[i]+3*x[i]-3*x[i+1]\n",
    "        b[3] = y[i+1]-y[i]+3*y[i]-3*y[i+1]\n",
    "        print(a[0],a[1],a[2],a[3],b[0],b[1],b[2],b[3])"
   ]
  }
 ],
 "metadata": {
  "kernelspec": {
   "display_name": "Python 3",
   "language": "python",
   "name": "python3"
  },
  "language_info": {
   "codemirror_mode": {
    "name": "ipython",
    "version": 3
   },
   "file_extension": ".py",
   "mimetype": "text/x-python",
   "name": "python",
   "nbconvert_exporter": "python",
   "pygments_lexer": "ipython3",
   "version": "3.8.3"
  }
 },
 "nbformat": 4,
 "nbformat_minor": 4
}

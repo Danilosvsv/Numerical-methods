{
 "cells": [
  {
   "cell_type": "markdown",
   "metadata": {},
   "source": [
    "## Secant Method\n",
    "\n",
    "The secant method is a variation of the newton method in which the calculation of f '(x) is not necessary. From a graphical point of view, the secant uses a line that connects two points and cuts the curve to determine an approximation of a root."
   ]
  },
  {
   "cell_type": "code",
   "execution_count": 2,
   "metadata": {},
   "outputs": [],
   "source": [
    "from numpy import *\n",
    "import numpy as np \n",
    "\n",
    "def secant(f,p0,p1,TOL,N0):\n",
    "    i = 2\n",
    "    q0 = f(p0)\n",
    "    q1 = f(p1)\n",
    "    while(i <= N0):\n",
    "        p = p1-q1*(p1-p0)/(q1-q0)\n",
    "        if(np.absolute(p-p0) < TOL):\n",
    "            print(p)\n",
    "            break\n",
    "        i = i+1\n",
    "        p0 = p1\n",
    "        q0 = q1\n",
    "        p1 = p\n",
    "        q1 = f(p)"
   ]
  },
  {
   "cell_type": "code",
   "execution_count": 3,
   "metadata": {},
   "outputs": [
    {
     "name": "stdout",
     "output_type": "stream",
     "text": [
      "0.7390851332151607\n"
     ]
    }
   ],
   "source": [
    "f = lambda x: np.cos(x)-x\n",
    "secant(f,0.5,0.7853981635,0.00001,7)"
   ]
  }
 ],
 "metadata": {
  "kernelspec": {
   "display_name": "Python 3",
   "language": "python",
   "name": "python3"
  },
  "language_info": {
   "codemirror_mode": {
    "name": "ipython",
    "version": 3
   },
   "file_extension": ".py",
   "mimetype": "text/x-python",
   "name": "python",
   "nbconvert_exporter": "python",
   "pygments_lexer": "ipython3",
   "version": "3.8.3"
  }
 },
 "nbformat": 4,
 "nbformat_minor": 4
}

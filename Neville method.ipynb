{
 "cells": [
  {
   "cell_type": "markdown",
   "metadata": {},
   "source": [
    "## Neville Method\n",
    "\n",
    "Neville's algorithm is used for polynomial interpolation and consists of determining a polynomial of degree $ \\ leq n $ that passes through a set of given points."
   ]
  },
  {
   "cell_type": "code",
   "execution_count": 76,
   "metadata": {},
   "outputs": [],
   "source": [
    "from __future__ import division\n",
    "from sympy import *\n",
    "\n",
    "def neville(point_x,x,fx):\n",
    "    n - len(x)\n",
    "    Q = zeros(n,n)\n",
    "    for k in range (len(x)):\n",
    "        Q[k,0] = fx[k]\n",
    "    for i in range (1,len(x),1):\n",
    "        for j in range (1,i+1,1):\n",
    "            Q[i,j] = ((point_x-x[i-j])*Q[i,j-1]-(point_x-x[i])*Q[i-1,j-1])/(x[i]-x[i-j])\n",
    "    print(Q) # Print all approximations for the Lagrange interpolator polynomials of the problem in question.\n",
    "    "
   ]
  },
  {
   "cell_type": "markdown",
   "metadata": {},
   "source": [
    "#### Example - Modified - [See page 132 of the book Bourden et al (2016).]\n",
    "\n",
    "Apply the Neville method to the data provided below, building a recursive table (matrix Q).\n"
   ]
  },
  {
   "cell_type": "code",
   "execution_count": 77,
   "metadata": {},
   "outputs": [
    {
     "name": "stdout",
     "output_type": "stream",
     "text": [
      "Matrix([[0.765197700000000, 0, 0, 0, 0], [0.620086000000000, 0.523344866666667, 0, 0, 0], [0.455402200000000, 0.510296800000000, 0.512471477777778, 0, 0], [0.281818600000000, 0.513263400000000, 0.511285666666667, 0.511812693827160, 0], [0.110362300000000, 0.510427000000000, 0.513736133333333, 0.511830214814815, 0.511819994238683]])\n"
     ]
    }
   ],
   "source": [
    "point_x = 1.5\n",
    "x = [1,1.3,1.6,1.9,2.2] # Set of Points x\n",
    "fx = [0.7651977,0.6200860,0.4554022,0.2818186,0.1103623] # f(x) at the respective points\n",
    "neville(point_x,x,fx) # The function is called and the matrix Q is obtained."
   ]
  }
 ],
 "metadata": {
  "kernelspec": {
   "display_name": "Python 3",
   "language": "python",
   "name": "python3"
  },
  "language_info": {
   "codemirror_mode": {
    "name": "ipython",
    "version": 3
   },
   "file_extension": ".py",
   "mimetype": "text/x-python",
   "name": "python",
   "nbconvert_exporter": "python",
   "pygments_lexer": "ipython3",
   "version": "3.8.3"
  }
 },
 "nbformat": 4,
 "nbformat_minor": 4
}

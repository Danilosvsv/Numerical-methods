{
 "cells": [
  {
   "cell_type": "markdown",
   "metadata": {},
   "source": [
    "## Divided Differences of Newton\n",
    "\n",
    "\n",
    "There are ways to generate high degree polynomial approximations at a given point. In this context, the split difference method is used to successively generate the polynomials themselves."
   ]
  },
  {
   "cell_type": "code",
   "execution_count": 9,
   "metadata": {},
   "outputs": [],
   "source": [
    "from __future__ import division\n",
    "from sympy import *\n",
    "\n",
    "def divided_differences(x,fx):\n",
    "    n = len(x)\n",
    "    F = zeros(n,n)\n",
    "    for k in range (len(x)):\n",
    "         F[0,k] = fx[k]\n",
    "    for i in range (1,len(x),1):\n",
    "        for j in range (1,i+1,1):\n",
    "            F[i,j] = (F[i,j-1]-F[i-1,j-1])/(x[i]-x[i-j])\n",
    "    for l in range (len(x)):\n",
    "        print(F[l,l])"
   ]
  },
  {
   "cell_type": "code",
   "execution_count": 10,
   "metadata": {},
   "outputs": [
    {
     "name": "stdout",
     "output_type": "stream",
     "text": [
      "0.765197700000000\n",
      "-2.55065900000000\n",
      "4.25109833333333\n",
      "-4.72344259259259\n",
      "3.93620216049383\n"
     ]
    }
   ],
   "source": [
    "x = [1,1.3,1.6,1.9,2.2] # Set of Points x\n",
    "fx = [0.7651977,0.6200860,0.4554022,0.2818186,0.1103623] # f(x) at the respective points\n",
    "divided_differences(x,fx) # The function is called and the matrix Q is obtained."
   ]
  },
  {
   "cell_type": "code",
   "execution_count": null,
   "metadata": {},
   "outputs": [],
   "source": []
  }
 ],
 "metadata": {
  "kernelspec": {
   "display_name": "Python 3",
   "language": "python",
   "name": "python3"
  },
  "language_info": {
   "codemirror_mode": {
    "name": "ipython",
    "version": 3
   },
   "file_extension": ".py",
   "mimetype": "text/x-python",
   "name": "python",
   "nbconvert_exporter": "python",
   "pygments_lexer": "ipython3",
   "version": "3.8.3"
  }
 },
 "nbformat": 4,
 "nbformat_minor": 4
}
